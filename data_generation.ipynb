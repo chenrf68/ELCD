{
 "cells": [
  {
   "cell_type": "code",
   "execution_count": 1,
   "metadata": {},
   "outputs": [
    {
     "name": "stdout",
     "output_type": "stream",
     "text": [
      "Index(['id', 'age_in_month', 'gender', 'ethnicity', 'age_grp_id',\n",
      "       'age_grp_edges_1', 'age_grp_edges_2'],\n",
      "      dtype='object')\n"
     ]
    }
   ],
   "source": [
    "import pandas as pd\n",
    "import pickle\n",
    "\n",
    "df1 = pd.read_csv('/home/omnisky/Public/ChenRongfa/PNC_canonical-20230626T041302Z-001/PNC_canonical/ori_data1.csv')\n",
    "emoid = pickle.load(open('/home/omnisky/Public/ChenRongfa/PNC_canonical-20230626T041302Z-001/PNC_canonical/PNC_SPM_emoid_good_filt.pkl', 'rb'))\n",
    "emoidsubs = list(emoid.keys())\n",
    "print(df1.columns)"
   ]
  },
  {
   "cell_type": "code",
   "execution_count": 2,
   "metadata": {},
   "outputs": [
    {
     "name": "stdout",
     "output_type": "stream",
     "text": [
      "0      600009963128\n",
      "1      600038720566\n",
      "2      600039015048\n",
      "3      600039665619\n",
      "4      600053476714\n",
      "           ...     \n",
      "258    609825254934\n",
      "259    609864333828\n",
      "260    609953829236\n",
      "261    609974923809\n",
      "262    609989574966\n",
      "Name: id, Length: 263, dtype: int64\n"
     ]
    }
   ],
   "source": [
    "id1 = df1['id']\n",
    "print(id1)"
   ]
  },
  {
   "cell_type": "code",
   "execution_count": 3,
   "metadata": {},
   "outputs": [],
   "source": [
    "emoid_data1 = []\n",
    "for i in id1:\n",
    "    if str(i) in emoidsubs:\n",
    "        emoid_data1.append(emoid[str(i)])\n"
   ]
  },
  {
   "cell_type": "code",
   "execution_count": 4,
   "metadata": {},
   "outputs": [
    {
     "name": "stdout",
     "output_type": "stream",
     "text": [
      "222\n"
     ]
    }
   ],
   "source": [
    "print(len(emoid_data1))"
   ]
  },
  {
   "cell_type": "code",
   "execution_count": 5,
   "metadata": {},
   "outputs": [
    {
     "name": "stdout",
     "output_type": "stream",
     "text": [
      "(222, 264, 210)\n"
     ]
    }
   ],
   "source": [
    "import numpy as np\n",
    "emoid1 = np.array(emoid_data1)\n",
    "print(emoid1.shape)"
   ]
  },
  {
   "cell_type": "code",
   "execution_count": 6,
   "metadata": {},
   "outputs": [],
   "source": [
    "np.save('PNC_SPM_emoid1',emoid1)"
   ]
  },
  {
   "cell_type": "code",
   "execution_count": 7,
   "metadata": {},
   "outputs": [
    {
     "name": "stdout",
     "output_type": "stream",
     "text": [
      "Index(['id', 'age_in_month', 'gender', 'ethnicity', 'age_grp_id',\n",
      "       'age_grp_edges_1', 'age_grp_edges_2'],\n",
      "      dtype='object')\n"
     ]
    }
   ],
   "source": [
    "df4 = pd.read_csv('/home/omnisky/Public/ChenRongfa/PNC_canonical-20230626T041302Z-001/PNC_canonical/ori_data4.csv')\n",
    "emoid = pickle.load(open('/home/omnisky/Public/ChenRongfa/PNC_canonical-20230626T041302Z-001/PNC_canonical/PNC_SPM_emoid_good_filt.pkl', 'rb'))\n",
    "emoidsubs = list(emoid.keys())\n",
    "print(df4.columns)"
   ]
  },
  {
   "cell_type": "code",
   "execution_count": 8,
   "metadata": {},
   "outputs": [
    {
     "name": "stdout",
     "output_type": "stream",
     "text": [
      "0      600031697545\n",
      "1      600054124128\n",
      "2      600210241146\n",
      "3      600282088524\n",
      "4      600325379088\n",
      "           ...     \n",
      "204    609812419171\n",
      "205    609909041202\n",
      "206    609910470154\n",
      "207    609952290400\n",
      "208    609987242768\n",
      "Name: id, Length: 209, dtype: int64\n"
     ]
    }
   ],
   "source": [
    "id4 = df4['id']\n",
    "print(id4)"
   ]
  },
  {
   "cell_type": "code",
   "execution_count": 9,
   "metadata": {},
   "outputs": [
    {
     "name": "stdout",
     "output_type": "stream",
     "text": [
      "204\n"
     ]
    }
   ],
   "source": [
    "emoid_data4 = []\n",
    "for i in id4:\n",
    "    if str(i) in emoidsubs:\n",
    "        emoid_data4.append(emoid[str(i)])\n",
    "print(len(emoid_data4))"
   ]
  },
  {
   "cell_type": "code",
   "execution_count": 10,
   "metadata": {},
   "outputs": [
    {
     "name": "stdout",
     "output_type": "stream",
     "text": [
      "(204, 264, 210)\n"
     ]
    }
   ],
   "source": [
    "emoid4 = np.array(emoid_data4)\n",
    "print(emoid4.shape)"
   ]
  },
  {
   "cell_type": "code",
   "execution_count": 11,
   "metadata": {},
   "outputs": [],
   "source": [
    "np.save('PNC_SPM_emoid4',emoid4)"
   ]
  }
 ],
 "metadata": {
  "kernelspec": {
   "display_name": "base",
   "language": "python",
   "name": "python3"
  },
  "language_info": {
   "codemirror_mode": {
    "name": "ipython",
    "version": 3
   },
   "file_extension": ".py",
   "mimetype": "text/x-python",
   "name": "python",
   "nbconvert_exporter": "python",
   "pygments_lexer": "ipython3",
   "version": "3.9.7"
  },
  "vscode": {
   "interpreter": {
    "hash": "ae5e1b78a42d3a00ffbad3028f2882e576ba2589a97bb9b799d13c9e22855bf5"
   }
  }
 },
 "nbformat": 4,
 "nbformat_minor": 2
}
