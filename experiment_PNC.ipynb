{
 "cells": [
  {
   "cell_type": "code",
   "execution_count": 2,
   "metadata": {},
   "outputs": [],
   "source": [
    "import numpy as np\n",
    "import torch\n",
    "import os\n",
    "import pickle\n",
    "import time\n",
    "from Model import *\n",
    "from itertools import chain\n",
    "from torch.optim import lr_scheduler\n",
    "import torch.optim as optim\n",
    "from torch.utils.data import DataLoader\n",
    "from synthetic import simulate_lorenz_96, simulate_var\n",
    "from utils import build_flags, time_split, save_result, evaluate_result, count_accuracy, loss_sparsity, loss_divergence, loss_mmd"
   ]
  },
  {
   "cell_type": "code",
   "execution_count": 1,
   "metadata": {},
   "outputs": [
    {
     "name": "stdout",
     "output_type": "stream",
     "text": [
      "--> 开始查询GPU使用情况：\n",
      "第 0 块显卡：已使用 20349  Mib, 全部 24564  Mib，使用率: 82.84% \n",
      "第 1 块显卡：已使用 20351  Mib, 全部 24564  Mib，使用率: 82.85% \n",
      "--> 选择第 0 块GPU\n"
     ]
    }
   ],
   "source": [
    "def choseGPU():\n",
    "    '''在程序运行最开始, 根据GPU使用情况，自动选择GPU'''\n",
    "    from re import findall\n",
    "    from subprocess import check_output\n",
    "    from torch.cuda import set_device, is_available\n",
    "    \n",
    "    if(is_available()):\n",
    "        output = check_output(\"nvidia-smi\", shell=True)\n",
    "        info = findall(\"(\\d+)MiB\\s/\\s(\\d+)MiB\", output.decode(\"utf-8\"))\n",
    "        print(\"--> 开始查询GPU使用情况：\")\n",
    "        # 正确匹配\n",
    "        best_index = 0\n",
    "        current_um = -1\n",
    "        for index, (um, am) in enumerate(info):\n",
    "            print(\"第{:^3}块显卡：已使用{:^8}Mib, 全部{:^8}Mib，使用率:{:^8.2%}\".format(index, um, am, float(um)/float(am)))\n",
    "            best_index = index if(current_um>float(um) and current_um>=0) else best_index\n",
    "            current_um = float(um)\n",
    "        # 选择\n",
    "        best_index=best_index\n",
    "        print(\"--> 选择第{:^3}块GPU\".format(best_index))\n",
    "        set_device(best_index)\n",
    "        \n",
    "    else:\n",
    "        print(\"显卡不可用\")\n",
    "        \n",
    "# 设置随机数种子\n",
    "# set_random_seed()\n",
    "# 选择GPU\n",
    "choseGPU()"
   ]
  },
  {
   "cell_type": "code",
   "execution_count": 23,
   "metadata": {},
   "outputs": [],
   "source": [
    "parser = build_flags()\n",
    "args = parser.parse_args(args=[])\n",
    "args.seed = 2\n",
    "args.num_nodes = 264\n",
    "args.dims = 1\n",
    "args.threshold = 0.5\n",
    "args.time_length = 500\n",
    "args.time_step = 10\n",
    "args.epochs = 3000\n",
    "args.batch_size = 64\n",
    "args.lr = 1e-3\n",
    "args.weight_decay = 1e-3\n",
    "args.encoder_alpha = 0.02\n",
    "args.decoder_alpha = 0.02\n",
    "args.beta_sparsity = 0.05 #0.25   #log_sum  #1.25是F=40,N=30的最优值\n",
    "args.beta_kl = 0.01        #JS散度\n",
    "args.beta_mmd = 2      #MMD\n",
    "args.encoder_hidden = 20\n",
    "args.decoder_hidden = 20\n",
    "args.encoder_dropout = 0.1\n",
    "args.decoder_dropout = 0.2"
   ]
  },
  {
   "cell_type": "code",
   "execution_count": 4,
   "metadata": {},
   "outputs": [],
   "source": [
    "np.random.seed(args.seed)\n",
    "torch.manual_seed(args.seed)\n",
    "torch.cuda.manual_seed(args.seed)"
   ]
  },
  {
   "cell_type": "code",
   "execution_count": 36,
   "metadata": {},
   "outputs": [],
   "source": [
    "samples = np.load('/home/omnisky/Public/ChenRongfa/Intrer_VAE/PNC_SPM_emoid1.npy')\n",
    "X_np = []\n",
    "# for sample in samples[0,:,:]:\n",
    "    # X_np.append(np.array(time_split(sample[:,:,np.newaxis], step=10)))\n",
    "sample = samples[0,:,:]\n",
    "# sample = sample[:,:,np.newaxis]\n",
    "X_np.append(np.array(time_split(sample[:,:,np.newaxis], step=10)))\n",
    "X_np = np.vstack(X_np)\n",
    "X_np = torch.FloatTensor(X_np)\n",
    "# X_np = torch.FloatTensor(sample)"
   ]
  },
  {
   "cell_type": "code",
   "execution_count": 37,
   "metadata": {},
   "outputs": [
    {
     "name": "stdout",
     "output_type": "stream",
     "text": [
      "torch.Size([201, 264, 10, 1])\n"
     ]
    }
   ],
   "source": [
    "print(X_np.shape)"
   ]
  },
  {
   "cell_type": "code",
   "execution_count": 7,
   "metadata": {},
   "outputs": [],
   "source": [
    "data = X_np\n",
    "data_loader = DataLoader(data, batch_size=args.batch_size)"
   ]
  },
  {
   "cell_type": "code",
   "execution_count": null,
   "metadata": {},
   "outputs": [],
   "source": [
    "adj = []\n",
    "for idx in range(264):\n",
    "    decoder_file = 'decoder' + str(idx) + '.pt'\n",
    "    decoder_file = os.path.join('/home/omnisky/Public/ChenRongfa/Intrer_VAE_result/DLCR_PNC_emoid1', decoder_file)\n",
    "    decoder_net = decoder(args.dims, args.decoder_hidden, args.time_step - 1, args.num_nodes, args.decoder_dropout, args.decoder_alpha)\n",
    "    decoder_net.load_state_dict(torch.load(decoder_file, map_location='cuda:0'))\n",
    "    adj.append(decoder_net.adj[idx, :])"
   ]
  },
  {
   "cell_type": "code",
   "execution_count": null,
   "metadata": {},
   "outputs": [],
   "source": [
    "init_adj = torch.cat([temp.unsqueeze(0) for temp in adj], dim=0)\n",
    "init_adj = init_adj.clone().detach()\n",
    "print(init_adj.shape)"
   ]
  },
  {
   "cell_type": "code",
   "execution_count": null,
   "metadata": {},
   "outputs": [],
   "source": [
    "for idx in range(200, 230):\n",
    "    print('Begin training feature: {:04d}'.format(idx + 1))\n",
    "    decoder_file = 'decoder' + str(idx) + '.pt'\n",
    "    decoder_file = os.path.join('/home/omnisky/Public/ChenRongfa/Intrer_VAE_result/PNC_emoid1', decoder_file)\n",
    "    Inter_decoder = decoder(args.dims, args.decoder_hidden, args.time_step - 1, args.num_nodes, args.decoder_dropout, args.decoder_alpha)\n",
    "    Inter_decoder = Inter_decoder.cuda()\n",
    "    optimizer = optim.Adam(params = Inter_decoder.parameters(), lr=args.lr, weight_decay=args.weight_decay)\n",
    "    scheduler = lr_scheduler.StepLR(optimizer, step_size=1000, gamma=0.5)\n",
    "    loss_val = nn.MSELoss()\n",
    "    best_loss = np.Inf\n",
    "    for epoch in range(200):\n",
    "        scheduler.step()\n",
    "        t = time.time()\n",
    "        Loss = []\n",
    "        mse_loss = []\n",
    "        for batch_idx, data in enumerate(data_loader):\n",
    "            data = data.cuda()\n",
    "            target = data[:, idx, 1:, :]\n",
    "            optimizer.zero_grad()\n",
    "            inputs = data[:, :, :-1, :]\n",
    "            pred = Inter_decoder(inputs, idx)\n",
    "            mse = loss_val(pred, target)\n",
    "            loss = mse\n",
    "\n",
    "            loss.backward()\n",
    "            optimizer.step()\n",
    "\n",
    "\n",
    "            Loss.append(loss.item())\n",
    "            mse_loss.append(mse.item())\n",
    "\n",
    "        if epoch % 100 == 0:\n",
    "            print('Feature: {:04d}'.format(idx + 1),\n",
    "                'Epoch: {:04d}'.format(epoch),\n",
    "                'Loss: {:.10f}'.format(np.mean(Loss)),\n",
    "                'MSE_Loss: {:.10f}'.format(np.mean(mse_loss)),\n",
    "                'time: {:.4f}s'.format(time.time() - t))\n",
    "\n",
    "            \n",
    "        if np.mean(mse_loss) < best_loss:\n",
    "            best_loss = np.mean(mse_loss)\n",
    "            torch.save(Inter_decoder.state_dict(), decoder_file)\n",
    "            # print('Feature: {:04d}'.format(idx + 1),\n",
    "            #       'Epoch: {:04d}'.format(epoch),\n",
    "            #       'Loss: {:.10f}'.format(np.mean(Loss)),\n",
    "            #       'mse_loss: {:.10f}'.format(np.mean(mse_loss)),\n",
    "            #       'mmd_loss: {:.10f}'.format(np.mean(mmd_loss)),\n",
    "            #       'time: {:.4f}s'.format(time.time() - t), file=log)"
   ]
  },
  {
   "cell_type": "code",
   "execution_count": 38,
   "metadata": {},
   "outputs": [],
   "source": [
    "init_adj = np.load('/home/omnisky/Public/ChenRongfa/Intrer_VAE/init_adj.npy')\n",
    "init_adj = torch.tensor(init_adj)"
   ]
  },
  {
   "cell_type": "code",
   "execution_count": 39,
   "metadata": {},
   "outputs": [],
   "source": [
    "causality_matrix = []\n",
    "total_gamma_matrix = []\n",
    "total_theta_matrix = []\n",
    "#init_adj = torch.eye(20)\n",
    "for idx in range(1):\n",
    "    # encoder_file = 'encoder' + str(idx) + '.pt'\n",
    "    # encoder_file = os.path.join('/home/omnisky/Public/ChenRongfa/fmri_sim4', encoder_file)\n",
    "    encoder_file = '/home/omnisky/Public/ChenRongfa/encoder1.pt'\n",
    "    est_net = encoder(init_adj, args.dims, args.encoder_hidden, args.dims, args.time_step - 1, args.encoder_dropout, args.encoder_alpha)\n",
    "    est_net.load_state_dict(torch.load(encoder_file))\n",
    "    # est_net = est_net.to('cuda:1')\n",
    "    est_net.eval()\n",
    "    inputs = X_np[:, :, :-1, :]#.to('cuda:1')   #:-1和1:有什么区别\n",
    "    mu, log_var = est_net(inputs)\n",
    "    # mu = mu.cpu().detach()\n",
    "    # log_var = log_var.cpu().detach()\n",
    "    sigma = torch.exp(log_var / 2)\n",
    "    # sigma2 = torch.exp(log_var2 / 2)\n",
    "    gamma = torch.randn(size = mu.size())\n",
    "    # theta = torch.randn(size = mu1.size())\n",
    "    gamma = mu + sigma * gamma\n",
    "    # theta = mu2 + sigma2* theta\n",
    "    mask_matrix = torch.sigmoid(gamma) #* torch.sigmoid(theta)\n",
    "    mask_matrix = mask_matrix.squeeze()\n",
    "    causality_matrix.append(mask_matrix)\n",
    "    # gamma_matrix = torch.sigmoid(gamma)\n",
    "    # gamma_matrix = gamma_matrix.squeeze()\n",
    "    # total_gamma_matrix.append(gamma_matrix)\n",
    "    # theta_matrix = torch.sigmoid(theta)\n",
    "    # theta_matrix = theta_matrix.squeeze()\n",
    "    # total_theta_matrix.append(theta_matrix)\n",
    "\n",
    "# np.save('/home/omnisky/Public/ChenRongfa/Intrer_VAE_result/result_fmri_concat/causality_matrix_10',causality_matrix)\n",
    "\n",
    "causality_matrix = torch.stack(causality_matrix, dim=1)\n",
    "\n",
    "# total_gamma_matrix = torch.stack(total_gamma_matrix, dim=1)\n",
    "# total_theta_matrix = torch.stack(total_theta_matrix, dim=1)"
   ]
  },
  {
   "cell_type": "code",
   "execution_count": 45,
   "metadata": {},
   "outputs": [
    {
     "name": "stdout",
     "output_type": "stream",
     "text": [
      "torch.Size([201, 1, 264, 9])\n"
     ]
    }
   ],
   "source": [
    "print(causality_matrix.shape)"
   ]
  },
  {
   "cell_type": "code",
   "execution_count": 33,
   "metadata": {},
   "outputs": [
    {
     "name": "stdout",
     "output_type": "stream",
     "text": [
      "torch.Size([201, 264, 9])\n"
     ]
    }
   ],
   "source": [
    "print(causality_matrix[0].shape)"
   ]
  },
  {
   "cell_type": "code",
   "execution_count": 13,
   "metadata": {},
   "outputs": [
    {
     "name": "stdout",
     "output_type": "stream",
     "text": [
      "torch.Size([1, 264])\n"
     ]
    }
   ],
   "source": [
    "adj_gca = causality_matrix.mean(dim=3).mean(dim=0)\n",
    "# np.save('/home/omnisky/Public/ChenRongfa/Intrer_VAE_result/result_fmri_concat/adj_gca_10',adj_gca.detach().numpy())\n",
    "# gamma_adj = total_gamma_matrix.mean(dim=3).mean(dim=0)\n",
    "# theta_adj = total_theta_matrix.mean(dim=3).mean(dim=0)\n",
    "print(adj_gca.shape)"
   ]
  },
  {
   "cell_type": "code",
   "execution_count": 16,
   "metadata": {},
   "outputs": [
    {
     "name": "stdout",
     "output_type": "stream",
     "text": [
      "(1, 264)\n"
     ]
    }
   ],
   "source": [
    "print(adj_gca.detach().numpy().shape)"
   ]
  },
  {
   "cell_type": "code",
   "execution_count": 14,
   "metadata": {},
   "outputs": [
    {
     "data": {
      "image/png": "[encoded data removed]",
      "text/plain": [
       "<Figure size 720x432 with 1 Axes>"
      ]
     },
     "metadata": {
      "needs_background": "light"
     },
     "output_type": "display_data"
    }
   ],
   "source": [
    "import matplotlib.pyplot as plt\n",
    "\n",
    "# 示例数据\n",
    "categories = np.arange(1,265).reshape(1, 264) # X轴的分类标签\n",
    "# values = [23, 45, 56, 78]  # 每个分类对应的值\n",
    "\n",
    "# 创建柱状图\n",
    "plt.figure(figsize=(10, 6))  # 设置图形大小\n",
    "plt.scatter(range(264),  adj_gca.detach().numpy().reshape(264,), color='skyblue')  # 绘制柱状图，颜色设置为天蓝色\n",
    "\n",
    "# 添加标题和标签\n",
    "# plt.title('柱状图示例')  # 图形标题\n",
    "# plt.xlabel('分类')  # X轴标签\n",
    "# plt.ylabel('值')  # Y轴标签\n",
    "\n",
    "# 显示图形\n",
    "plt.show()\n"
   ]
  },
  {
   "cell_type": "code",
   "execution_count": 15,
   "metadata": {},
   "outputs": [
    {
     "ename": "NameError",
     "evalue": "name 'data' is not defined",
     "output_type": "error",
     "traceback": [
      "\u001b[0;31m---------------------------------------------------------------------------\u001b[0m",
      "\u001b[0;31mNameError\u001b[0m                                 Traceback (most recent call last)",
      "\u001b[0;32m/tmp/ipykernel_803417/225445891.py\u001b[0m in \u001b[0;36m<module>\u001b[0;34m\u001b[0m\n\u001b[0;32m----> 1\u001b[0;31m \u001b[0mprint\u001b[0m\u001b[0;34m(\u001b[0m\u001b[0mdata\u001b[0m\u001b[0;34m.\u001b[0m\u001b[0mshape\u001b[0m\u001b[0;34m)\u001b[0m\u001b[0;34m\u001b[0m\u001b[0;34m\u001b[0m\u001b[0m\n\u001b[0m",
      "\u001b[0;31mNameError\u001b[0m: name 'data' is not defined"
     ]
    }
   ],
   "source": [
    "print(data.shape)"
   ]
  },
  {
   "cell_type": "code",
   "execution_count": 16,
   "metadata": {},
   "outputs": [
    {
     "name": "stdout",
     "output_type": "stream",
     "text": [
      "130\n"
     ]
    }
   ],
   "source": [
    "jisuan = adj_gca[adj_gca > 0.5]\n",
    "print(len(jisuan))"
   ]
  }
 ],
 "metadata": {
  "kernelspec": {
   "display_name": "base",
   "language": "python",
   "name": "python3"
  },
  "language_info": {
   "codemirror_mode": {
    "name": "ipython",
    "version": 3
   },
   "file_extension": ".py",
   "mimetype": "text/x-python",
   "name": "python",
   "nbconvert_exporter": "python",
   "pygments_lexer": "ipython3",
   "version": "3.9.7"
  },
  "vscode": {
   "interpreter": {
    "hash": "ae5e1b78a42d3a00ffbad3028f2882e576ba2589a97bb9b799d13c9e22855bf5"
   }
  }
 },
 "nbformat": 4,
 "nbformat_minor": 2
}
