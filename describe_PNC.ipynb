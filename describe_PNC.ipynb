{
 "cells": [
  {
   "cell_type": "code",
   "execution_count": 4,
   "metadata": {},
   "outputs": [],
   "source": [
    "import pickle\n",
    "import hdf5storage\n",
    "import numpy as np\n",
    "import scipy.io as scio"
   ]
  },
  {
   "cell_type": "code",
   "execution_count": 5,
   "metadata": {},
   "outputs": [],
   "source": [
    "data = hdf5storage.loadmat('/home/omnisky/Public/ChenRongfa/PNC_canonical-20230626T041302Z-001/PNC_canonical/ori_data4.mat')"
   ]
  },
  {
   "cell_type": "code",
   "execution_count": 13,
   "metadata": {},
   "outputs": [
    {
     "name": "stdout",
     "output_type": "stream",
     "text": [
      "[[6.00054124e+11]]\n"
     ]
    }
   ],
   "source": [
    "print(data['data4'][0,1][0])"
   ]
  },
  {
   "cell_type": "code",
   "execution_count": 1,
   "metadata": {},
   "outputs": [
    {
     "name": "stdout",
     "output_type": "stream",
     "text": [
      "Index(['id', 'age_in_month', 'gender', 'ethnicity', 'age_grp_id',\n",
      "       'age_grp_edges_1', 'age_grp_edges_2'],\n",
      "      dtype='object')\n"
     ]
    }
   ],
   "source": [
    "import pandas as pd\n",
    "\n",
    "df = pd.read_csv('/home/omnisky/Public/ChenRongfa/PNC_canonical-20230626T041302Z-001/PNC_canonical/ori_data1.csv')\n",
    "print(df.columns)"
   ]
  },
  {
   "cell_type": "code",
   "execution_count": 3,
   "metadata": {},
   "outputs": [
    {
     "name": "stdout",
     "output_type": "stream",
     "text": [
      "      age_in_month\n",
      "min     103.000000\n",
      "max     143.000000\n",
      "mean    122.942966\n",
      "std      11.305296\n"
     ]
    }
   ],
   "source": [
    "grouped_age_result = df.agg({'age_in_month': ['min', 'max', 'mean', 'std']})\n",
    "print(grouped_age_result)"
   ]
  },
  {
   "cell_type": "code",
   "execution_count": 2,
   "metadata": {},
   "outputs": [
    {
     "name": "stdout",
     "output_type": "stream",
     "text": [
      "gender\n",
      "F    128\n",
      "M    135\n",
      "dtype: int64\n"
     ]
    }
   ],
   "source": [
    "grouped_gender = df.groupby('gender')\n",
    "print(grouped_gender.size())"
   ]
  },
  {
   "cell_type": "code",
   "execution_count": 4,
   "metadata": {},
   "outputs": [
    {
     "name": "stdout",
     "output_type": "stream",
     "text": [
      "ethnicity\n",
      "AFRICAN             117\n",
      "ASIAN                 3\n",
      "CAUCASIAN/WHITE     112\n",
      "HAWAIIAN/PACIFIC      1\n",
      "OTHER/MIXED          30\n",
      "dtype: int64\n"
     ]
    }
   ],
   "source": [
    "grouped_race = df.groupby('ethnicity')\n",
    "print(grouped_race.size())"
   ]
  },
  {
   "cell_type": "code",
   "execution_count": 6,
   "metadata": {},
   "outputs": [
    {
     "name": "stdout",
     "output_type": "stream",
     "text": [
      "0.4448669201520912 0.011406844106463879 0.42585551330798477 0.0038022813688212928 0.11406844106463879\n"
     ]
    }
   ],
   "source": [
    "print(117/263,3/263,112/263,1/263,30/263)"
   ]
  },
  {
   "cell_type": "code",
   "execution_count": 7,
   "metadata": {},
   "outputs": [
    {
     "name": "stdout",
     "output_type": "stream",
     "text": [
      "Index(['id', 'age_in_month', 'gender', 'ethnicity', 'age_grp_id',\n",
      "       'age_grp_edges_1', 'age_grp_edges_2'],\n",
      "      dtype='object')\n"
     ]
    }
   ],
   "source": [
    "import pandas as pd\n",
    "\n",
    "df4 = pd.read_csv('/home/omnisky/Public/ChenRongfa/PNC_canonical-20230626T041302Z-001/PNC_canonical/ori_data4.csv')\n",
    "print(df.columns)"
   ]
  },
  {
   "cell_type": "code",
   "execution_count": 8,
   "metadata": {},
   "outputs": [
    {
     "name": "stdout",
     "output_type": "stream",
     "text": [
      "      age_in_month\n",
      "min     216.000000\n",
      "max     271.000000\n",
      "mean    231.406699\n",
      "std      12.037687\n"
     ]
    }
   ],
   "source": [
    "grouped_age_result4 = df4.agg({'age_in_month': ['min', 'max', 'mean', 'std']})\n",
    "print(grouped_age_result4)"
   ]
  },
  {
   "cell_type": "code",
   "execution_count": 9,
   "metadata": {},
   "outputs": [
    {
     "name": "stdout",
     "output_type": "stream",
     "text": [
      "gender\n",
      "F    128\n",
      "M     81\n",
      "dtype: int64\n"
     ]
    }
   ],
   "source": [
    "grouped_gender4 = df4.groupby('gender')\n",
    "print(grouped_gender4.size())"
   ]
  },
  {
   "cell_type": "code",
   "execution_count": 10,
   "metadata": {},
   "outputs": [
    {
     "name": "stdout",
     "output_type": "stream",
     "text": [
      "ethnicity\n",
      "AFRICAN             77\n",
      "AMERICAN             2\n",
      "CAUCASIAN/WHITE    113\n",
      "OTHER/MIXED         17\n",
      "dtype: int64\n"
     ]
    }
   ],
   "source": [
    "grouped_race4 = df4.groupby('ethnicity')\n",
    "print(grouped_race4.size())"
   ]
  },
  {
   "cell_type": "code",
   "execution_count": 11,
   "metadata": {},
   "outputs": [
    {
     "name": "stdout",
     "output_type": "stream",
     "text": [
      "0.3684210526315789 0.009569377990430622 0.5406698564593302 0.08133971291866028\n"
     ]
    }
   ],
   "source": [
    "print(77/209, 2/209, 113/209, 17/209)"
   ]
  }
 ],
 "metadata": {
  "kernelspec": {
   "display_name": "base",
   "language": "python",
   "name": "python3"
  },
  "language_info": {
   "codemirror_mode": {
    "name": "ipython",
    "version": 3
   },
   "file_extension": ".py",
   "mimetype": "text/x-python",
   "name": "python",
   "nbconvert_exporter": "python",
   "pygments_lexer": "ipython3",
   "version": "3.9.7"
  }
 },
 "nbformat": 4,
 "nbformat_minor": 2
}
