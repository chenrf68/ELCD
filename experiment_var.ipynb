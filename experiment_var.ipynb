{
 "cells": [
  {
   "cell_type": "code",
   "execution_count": 1,
   "metadata": {},
   "outputs": [],
   "source": [
    "import numpy as np\n",
    "import torch\n",
    "import os\n",
    "import pickle\n",
    "import time\n",
    "from Model import *\n",
    "from itertools import chain\n",
    "from torch.optim import lr_scheduler\n",
    "import torch.optim as optim\n",
    "from torch.utils.data import DataLoader\n",
    "from synthetic import simulate_lorenz_96, simulate_var\n",
    "from utils import build_flags, time_split, save_result, evaluate_result, count_accuracy, loss_sparsity, loss_divergence, loss_mmd, save_result"
   ]
  },
  {
   "cell_type": "code",
   "execution_count": 2,
   "metadata": {},
   "outputs": [],
   "source": [
    "parser = build_flags()\n",
    "args = parser.parse_args(args=[])\n",
    "args.seed = 2\n",
    "args.num_nodes = 10\n",
    "args.dims = 1\n",
    "args.threshold = 0.5\n",
    "args.time_length = 500\n",
    "args.time_step = 10\n",
    "args.epochs = 3000\n",
    "args.batch_size = 128\n",
    "args.lr = 1e-3\n",
    "args.weight_decay = 1e-3\n",
    "args.encoder_alpha = 0.02\n",
    "args.decoder_alpha = 0.04\n",
    "args.beta_sparsity = 0.25 #0.25   #log_sum\n",
    "args.beta_kl = 0.1        #JS散度\n",
    "args.beta_mmd = 0.5  #1      #MMD\n",
    "args.encoder_hidden = 20\n",
    "args.decoder_hidden = 10 #20\n",
    "args.encoder_dropout = 0.1\n",
    "args.decoder_dropout = 0.5"
   ]
  },
  {
   "cell_type": "code",
   "execution_count": null,
   "metadata": {},
   "outputs": [],
   "source": [
    "\n",
    "X_np_ori = X_np\n",
    "X_np = X_np.transpose(1, 0)\n",
    "X_np = X_np[:, :, np.newaxis]\n",
    "X_np = np.array(time_split(X_np, step=10))\n",
    "X_np = torch.FloatTensor(X_np)\n",
    "data = X_np\n",
    "data_loader = DataLoader(data, batch_size=128)"
   ]
  }
 ],
 "metadata": {
  "kernelspec": {
   "display_name": "base",
   "language": "python",
   "name": "python3"
  },
  "language_info": {
   "codemirror_mode": {
    "name": "ipython",
    "version": 3
   },
   "file_extension": ".py",
   "mimetype": "text/x-python",
   "name": "python",
   "nbconvert_exporter": "python",
   "pygments_lexer": "ipython3",
   "version": "3.9.7"
  },
  "vscode": {
   "interpreter": {
    "hash": "ae5e1b78a42d3a00ffbad3028f2882e576ba2589a97bb9b799d13c9e22855bf5"
   }
  }
 },
 "nbformat": 4,
 "nbformat_minor": 2
}
